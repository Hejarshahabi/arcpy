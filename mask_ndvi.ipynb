{
  "nbformat": 4,
  "nbformat_minor": 0,
  "metadata": {
    "colab": {
      "provenance": []
    },
    "kernelspec": {
      "name": "python3",
      "display_name": "Python 3"
    },
    "language_info": {
      "name": "python"
    }
  },
  "cells": [
    {
      "cell_type": "code",
      "execution_count": null,
      "metadata": {
        "id": "Ccx08QmCHCTH"
      },
      "outputs": [],
      "source": [
        "import arcpy\n",
        "import os\n",
        "from tqdm import tqdm\n",
        "import glob\n",
        "# Set the workspace\n",
        "arcpy.env.workspace = r\"F:\\temp_arcgispro\"\n",
        "\n",
        "# Define raster A (large raster) and list B (rasters for masking)\n",
        "raster_a = r\"F:\\temp2\\ndvi.tif\"  # Large raster A\n",
        "list_b = glob.glob(r'H:\\LSM_DATA\\masked_layers\\rasters_wgs\\slope\\*.tif') # Rasters in list B (masking rasters)\n",
        "\n",
        "# Output directory\n",
        "output_dir = r\"H:\\LSM_DATA\\masked_layers\\rasters_wgs\\ndvi\"\n",
        "\n",
        "# Function to mask raster A using each raster in list B and save it\n",
        "def mask_raster(large_raster, mask_raster, output_raster):\n",
        "    # Set the extent and cell size based on the current raster in list B\n",
        "    arcpy.env.extent = arcpy.Describe(mask_raster).extent\n",
        "    arcpy.env.cellSize = arcpy.Describe(mask_raster).meanCellWidth\n",
        "\n",
        "    # Perform masking (large raster A masked by the current raster in list B)\n",
        "    masked_raster = arcpy.sa.ExtractByMask(large_raster, mask_raster)\n",
        "\n",
        "    # Save the result\n",
        "    masked_raster.save(output_raster)\n",
        "\n",
        "# Loop over rasters in list B\n",
        "for raster_b in tqdm(list_b):\n",
        "    base_name = os.path.basename(raster_b)  # Get the name of the current raster in list B\n",
        "\n",
        "    # Define the output raster name based on the current raster in list B\n",
        "    output_raster = os.path.join(output_dir, base_name)\n",
        "\n",
        "    # Mask large raster A using the current raster in list B and save it\n",
        "    mask_raster(raster_a, raster_b, output_raster)\n",
        "\n",
        "# Clear environment settings\n",
        "arcpy.ClearEnvironment(\"extent\")\n",
        "arcpy.ClearEnvironment(\"cellSize\")\n",
        "\n",
        "print('done')\n"
      ]
    }
  ]
}